{
 "cells": [
  {
   "cell_type": "code",
   "execution_count": 2,
   "metadata": {},
   "outputs": [
    {
     "name": "stdout",
     "output_type": "stream",
     "text": [
      "Lintasan terpendek dari A ke H adalah A -> H\n"
     ]
    }
   ],
   "source": [
    "peta = {\n",
    "    'A' : set(['B', 'H']),\n",
    "    'B' : set(['A', 'C', 'H']),\n",
    "    'C' : set(['B', 'D', 'E']),\n",
    "    'D' : set(['C', 'E', 'F', 'G', 'H']),\n",
    "    'E' : set(['C', 'D']),\n",
    "    'F' : set(['D', 'G']),\n",
    "    'G' : set(['F', 'D', 'H']),\n",
    "    'H' : set(['A', 'B',  'D', 'G'])\n",
    "}\n",
    "\n",
    "def bfs_lintasan_terpendek(peta, mulai, tujuan):\n",
    "    explored = []\n",
    "    queue = [[mulai]]\n",
    "\n",
    "    if mulai == tujuan:\n",
    "        return 'Lintasan terpendek dari ' + mulai + ' ke ' + tujuan + ' adalah ' + mulai\n",
    "\n",
    "    while queue:\n",
    "        jalur = queue.pop(0)\n",
    "        node = jalur[-1]\n",
    "        if node not in explored:\n",
    "            neighbours = peta[node]\n",
    "\n",
    "            for neighbour in neighbours:\n",
    "                jalur_baru = list(jalur)\n",
    "                jalur_baru.append(neighbour)\n",
    "                queue.append(jalur_baru)\n",
    "\n",
    "                if neighbour == tujuan:\n",
    "                    return 'Lintasan terpendek dari ' + mulai + ' ke ' + tujuan + ' adalah ' + ' -> '.join(jalur_baru)\n",
    "                \n",
    "            explored.append(node)\n",
    "\n",
    "    return 'Tidak ada lintasan terpendek dari ' + mulai + ' ke ' + tujuan\n",
    "\n",
    "mulai = input('Masukkan titik awal: ')\n",
    "tujuan = input('Masukkan titik tujuan: ')\n",
    "\n",
    "print(bfs_lintasan_terpendek(peta, mulai, tujuan))"
   ]
  }
 ],
 "metadata": {
  "kernelspec": {
   "display_name": "Python 3",
   "language": "python",
   "name": "python3"
  },
  "language_info": {
   "codemirror_mode": {
    "name": "ipython",
    "version": 3
   },
   "file_extension": ".py",
   "mimetype": "text/x-python",
   "name": "python",
   "nbconvert_exporter": "python",
   "pygments_lexer": "ipython3",
   "version": "3.12.3"
  }
 },
 "nbformat": 4,
 "nbformat_minor": 2
}
